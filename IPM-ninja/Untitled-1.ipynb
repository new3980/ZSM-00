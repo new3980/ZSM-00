{
 "cells": [
  {
   "cell_type": "code",
   "execution_count": null,
   "metadata": {},
   "outputs": [],
   "source": [
    "import numpy as np\n",
    "import cv2\n",
    "import matplotlib.pyplot as plt\n",
    "\n",
    "# Convert BGR to RGB for matplotlib functions\n",
    "def convert_color(BGR):\n",
    "    converted = cv2.cvtColor(BGR, cv2.COLOR_BGR2RGB)\n",
    "    plt.imshow(converted)\n",
    "\n",
    "img = cv2.resize(cv2.imread(\"D:\\\\GIT\\\\ZSM-00\\\\IPM-ninja\\\\binary_zuto.png\",0), (1000,1000))\n",
    "print(img)"
   ]
  }
 ],
 "metadata": {
  "kernelspec": {
   "display_name": "Python 3.9.7 ('myenv')",
   "language": "python",
   "name": "python3"
  },
  "language_info": {
   "name": "python",
   "version": "3.9.7"
  },
  "orig_nbformat": 4,
  "vscode": {
   "interpreter": {
    "hash": "dc6b16c1e443c0544e5d62f371dcacbd0dc099e099f9c93405a32a5ea339261e"
   }
  }
 },
 "nbformat": 4,
 "nbformat_minor": 2
}
